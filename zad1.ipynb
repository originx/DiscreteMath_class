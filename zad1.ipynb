{
 "metadata": {
  "name": "zad1"
 }, 
 "nbformat": 2, 
 "worksheets": [
  {
   "cells": [
    {
     "cell_type": "markdown", 
     "source": [
      "# <headingcell level=1>", 
      "", 
      "# Zada\u0107a 1 - diskretne strukture s teorijom brojeva"
     ]
    }, 
    {
     "cell_type": "markdown", 
     "source": [
      "U\u010ditavanje pomo\u0107ne biblioteke za \"ljep\u0161i ispis brojeva\" [ naredba ispis() ]"
     ]
    }, 
    {
     "cell_type": "code", 
     "collapsed": true, 
     "input": [
      "from pomocne_metode import *;"
     ], 
     "language": "python", 
     "outputs": [], 
     "prompt_number": 1
    }, 
    {
     "cell_type": "markdown", 
     "source": [
      "U\u010ditavanje svih zadataka 1-9 iz jedne datoteke"
     ]
    }, 
    {
     "cell_type": "code", 
     "collapsed": false, 
     "input": [
      "from sve import *"
     ], 
     "language": "python", 
     "outputs": [], 
     "prompt_number": 2
    }, 
    {
     "cell_type": "markdown", 
     "source": [
      "U\u010ditavanje svih brojeva iz datoteka u rije\u010dnike broj {} i prim {}"
     ]
    }, 
    {
     "cell_type": "code", 
     "collapsed": false, 
     "input": [
      "broj={}", 
      "for i in range(1,9):", 
      "    dat=open(\"testni_brojevi/broj\"+str(i)+\".txt\")", 
      "    broj[i]=int(dat.read())", 
      "    dat.close()", 
      "    print \"\\nBroj\",i,\":\"", 
      "    ispis(broj[i],120)", 
      "prirodni={}", 
      "for i in range(1,3):", 
      "    dat=open(\"testni_brojevi/P\"+str(i)+\".txt\")", 
      "    prirodni[i]=int(dat.read())", 
      "    dat.close()", 
      "    print \"\\nPrirodni broj\",i,\":\"", 
      "    ispis(prirodni[i],120)"
     ], 
     "language": "python", 
     "outputs": [
      {
       "output_type": "stream", 
       "stream": "stdout", 
       "text": [
        "", 
        "Broj 1 :", 
        "16491972357", 
        "", 
        "Broj 2 :", 
        "74252994229", 
        "", 
        "Broj 3 :", 
        "11588211132896623", 
        "", 
        "Broj 4 :", 
        "5037198379880902775509", 
        "", 
        "Broj 5 :", 
        "157185313392988000551911896400170592487677012994370713978929029923429401550082475447984786746452639138991004211140190061\\ ", 
        "322888036069093891668715744150496017420418219740831771727623037319682153393", 
        "", 
        "Broj 6 :", 
        "160669557356118187788117507750653516765161469361581396791900868927560360519376495164385264059109836314601358402026154049\\ ", 
        "362533325988448523184884813611090484079472410875681562815635868149134080614215931198737538338243874798708554231253709155\\ ", 
        "371023031078097727330353537783", 
        "", 
        "Broj 7 :", 
        "160842859157712627185412199007652574983291749367673360248010477348538138925249133427334011551919271567778861491287264570\\ ", 
        "674198879198588557423506434313619407292846159837534016725864335234196553503714121098404491301453289544324660212970999516\\ ", 
        "0310513462513839573710638482030571210068201", 
        "", 
        "Broj 8 :", 
        "385132038563169217435067576285371753039092537553088979481280814480799756146394774792734017277945707638984276896761255932\\ ", 
        "097138647480268020580014893831938305680089735383561906178035773819614077936090365506756128316837714897271140559632786565\\ ", 
        "984399680926277018761264270802091712228247949818899330344281134125551390534466580840193435655500679577782744501459586227\\ ", 
        "223981377572707646312515999", 
        "", 
        "Prirodni broj 1 :", 
        "344563975893181784831939618614186817325329569509663067243991475416744211925328024442890815492086972659515839375983714733\\ ", 
        "863014269516324014400617156282231481210385535561553370650830273418610809943200210604056519158826545418459033775935334392\\ ", 
        "71928526067763429496448150117276833594446863632109641941627491249235882339404373225948839135854099741607213", 
        "", 
        "Prirodni broj 2 :", 
        "618918778336154774216861198928982219334565904314238592972041939671681907905085039186658761336019169778142688283726784707\\ ", 
        "039184085984040957524678863097537499605371139819267962214566771628824475500946906431567899409728135894658093621364380223\\ ", 
        "418604440761320023960993804693517966326614564054095145924428385811771678642249646900478323860602108947778427467359336611\\ ", 
        "51517891723802296574115997203364654236627418562565428565504384750523961420396693212696808419"
       ]
      }
     ], 
     "prompt_number": 3
    }, 
    {
     "cell_type": "markdown", 
     "source": [
      "# <headingcell level=2>", 
      "", 
      "# Zadatak 10 - testiranje zadataka 2-9 na testnim brojevima", 
      "", 
      "# <headingcell level=3>", 
      "", 
      "# Zadatak 2 - ispitivanje prostosti"
     ]
    }, 
    {
     "cell_type": "code", 
     "collapsed": false, 
     "input": [
      "%time rez=provjeraProstosti(broj[1])", 
      "print \"Rezultat:\",rez"
     ], 
     "language": "python", 
     "outputs": [
      {
       "output_type": "stream", 
       "stream": "stdout", 
       "text": [
        "CPU times: user 0.00 s, sys: 0.00 s, total: 0.00 s", 
        "Wall time: 0.00 s", 
        "Rezultat: 3"
       ]
      }
     ], 
     "prompt_number": 4
    }, 
    {
     "cell_type": "code", 
     "collapsed": false, 
     "input": [
      "%time rez=provjeraProstosti(broj[2])", 
      "print \"Rezultat:\",rez"
     ], 
     "language": "python", 
     "outputs": [
      {
       "output_type": "stream", 
       "stream": "stdout", 
       "text": [
        "CPU times: user 0.00 s, sys: 0.00 s, total: 0.00 s", 
        "Wall time: 0.00 s", 
        "Rezultat: 2347"
       ]
      }
     ], 
     "prompt_number": 5
    }, 
    {
     "cell_type": "code", 
     "collapsed": false, 
     "input": [
      "%time rez=provjeraProstosti(broj[3])", 
      "print \"Rezultat:\",rez"
     ], 
     "language": "python", 
     "outputs": [
      {
       "output_type": "stream", 
       "stream": "stdout", 
       "text": [
        "CPU times: user 0.06 s, sys: 0.00 s, total: 0.06 s", 
        "Wall time: 0.06 s", 
        "Rezultat: 434683"
       ]
      }
     ], 
     "prompt_number": 6
    }, 
    {
     "cell_type": "code", 
     "collapsed": false, 
     "input": [
      "%time rez=provjeraProstosti(broj[4])", 
      "print \"Rezultat:\",rez"
     ], 
     "language": "python", 
     "outputs": [
      {
       "output_type": "stream", 
       "stream": "stdout", 
       "text": [
        "CPU times: user 0.12 s, sys: 0.00 s, total: 0.12 s", 
        "Wall time: 0.13 s", 
        "Rezultat: 434683"
       ]
      }
     ], 
     "prompt_number": 7
    }, 
    {
     "cell_type": "code", 
     "collapsed": false, 
     "input": [
      "%time rez=provjeraProstosti(broj[5])", 
      "print \"Rezultat:\",rez"
     ], 
     "language": "python", 
     "outputs": [
      {
       "ename": "KeyboardInterrupt", 
       "evalue": "", 
       "output_type": "pyerr", 
       "traceback": [
        "\u001b[0;31m---------------------------------------------------------------------------\u001b[0m\n\u001b[0;31mKeyboardInterrupt\u001b[0m                         Traceback (most recent call last)", 
        "\u001b[0;32m/home/ori/Desktop/notebook/<ipython-input-8-520b853a4592>\u001b[0m in \u001b[0;36m<module>\u001b[0;34m()\u001b[0m\n\u001b[0;32m----> 1\u001b[0;31m \u001b[0mget_ipython\u001b[0m\u001b[0;34m(\u001b[0m\u001b[0;34m)\u001b[0m\u001b[0;34m.\u001b[0m\u001b[0mmagic\u001b[0m\u001b[0;34m(\u001b[0m\u001b[0;34mu'time rez=provjeraProstosti(broj[5])'\u001b[0m\u001b[0;34m)\u001b[0m\u001b[0;34m\u001b[0m\u001b[0m\n\u001b[0m\u001b[1;32m      2\u001b[0m \u001b[0;32mprint\u001b[0m \u001b[0;34m\"Rezultat:\"\u001b[0m\u001b[0;34m,\u001b[0m\u001b[0mrez\u001b[0m\u001b[0;34m\u001b[0m\u001b[0m\n", 
        "\u001b[0;32m/usr/lib/python2.7/dist-packages/IPython/core/interactiveshell.pyc\u001b[0m in \u001b[0;36mmagic\u001b[0;34m(self, arg_s, next_input)\u001b[0m\n\u001b[1;32m   1983\u001b[0m                 \u001b[0mself\u001b[0m\u001b[0;34m.\u001b[0m\u001b[0m_magic_locals\u001b[0m \u001b[0;34m=\u001b[0m \u001b[0msys\u001b[0m\u001b[0;34m.\u001b[0m\u001b[0m_getframe\u001b[0m\u001b[0;34m(\u001b[0m\u001b[0;36m1\u001b[0m\u001b[0;34m)\u001b[0m\u001b[0;34m.\u001b[0m\u001b[0mf_locals\u001b[0m\u001b[0;34m\u001b[0m\u001b[0m\n\u001b[1;32m   1984\u001b[0m             \u001b[0;32mwith\u001b[0m \u001b[0mself\u001b[0m\u001b[0;34m.\u001b[0m\u001b[0mbuiltin_trap\u001b[0m\u001b[0;34m:\u001b[0m\u001b[0;34m\u001b[0m\u001b[0m\n\u001b[0;32m-> 1985\u001b[0;31m                 \u001b[0mresult\u001b[0m \u001b[0;34m=\u001b[0m \u001b[0mfn\u001b[0m\u001b[0;34m(\u001b[0m\u001b[0mmagic_args\u001b[0m\u001b[0;34m)\u001b[0m\u001b[0;34m\u001b[0m\u001b[0m\n\u001b[0m\u001b[1;32m   1986\u001b[0m             \u001b[0;31m# Ensure we're not keeping object references around:\u001b[0m\n\u001b[0;34m\u001b[0m\u001b[0m\n\u001b[1;32m   1987\u001b[0m             \u001b[0mself\u001b[0m\u001b[0;34m.\u001b[0m\u001b[0m_magic_locals\u001b[0m \u001b[0;34m=\u001b[0m \u001b[0;34m{\u001b[0m\u001b[0;34m}\u001b[0m\u001b[0;34m\u001b[0m\u001b[0m\n", 
        "\u001b[0;32m/usr/lib/python2.7/dist-packages/IPython/core/magic.pyc\u001b[0m in \u001b[0;36mmagic_time\u001b[0;34m(self, parameter_s)\u001b[0m\n\u001b[1;32m   2023\u001b[0m         \u001b[0;32melse\u001b[0m\u001b[0;34m:\u001b[0m\u001b[0;34m\u001b[0m\u001b[0m\n\u001b[1;32m   2024\u001b[0m             \u001b[0mst\u001b[0m \u001b[0;34m=\u001b[0m \u001b[0mclk\u001b[0m\u001b[0;34m(\u001b[0m\u001b[0;34m)\u001b[0m\u001b[0;34m\u001b[0m\u001b[0m\n\u001b[0;32m-> 2025\u001b[0;31m             \u001b[0;32mexec\u001b[0m \u001b[0mcode\u001b[0m \u001b[0;32min\u001b[0m \u001b[0mglob\u001b[0m\u001b[0;34m,\u001b[0m \u001b[0mlocs\u001b[0m\u001b[0;34m\u001b[0m\u001b[0m\n\u001b[0m\u001b[1;32m   2026\u001b[0m             \u001b[0mend\u001b[0m \u001b[0;34m=\u001b[0m \u001b[0mclk\u001b[0m\u001b[0;34m(\u001b[0m\u001b[0;34m)\u001b[0m\u001b[0;34m\u001b[0m\u001b[0m\n\u001b[1;32m   2027\u001b[0m             \u001b[0mout\u001b[0m \u001b[0;34m=\u001b[0m \u001b[0mNone\u001b[0m\u001b[0;34m\u001b[0m\u001b[0m\n", 
        "\u001b[0;32m/home/ori/Desktop/notebook/<timed exec>\u001b[0m in \u001b[0;36m<module>\u001b[0;34m()\u001b[0m\n", 
        "\u001b[0;32m/home/ori/Desktop/notebook/sve.pyc\u001b[0m in \u001b[0;36mprovjeraProstosti\u001b[0;34m(n)\u001b[0m\n\u001b[1;32m     57\u001b[0m         \u001b[0;32mif\u001b[0m \u001b[0mn\u001b[0m \u001b[0;34m%\u001b[0m \u001b[0mi\u001b[0m \u001b[0;34m==\u001b[0m \u001b[0;36m0\u001b[0m\u001b[0;34m:\u001b[0m\u001b[0;34m\u001b[0m\u001b[0m\n\u001b[1;32m     58\u001b[0m             \u001b[0;32mreturn\u001b[0m \u001b[0mi\u001b[0m\u001b[0;34m;\u001b[0m\u001b[0;34m\u001b[0m\u001b[0m\n\u001b[0;32m---> 59\u001b[0;31m         \u001b[0mi\u001b[0m\u001b[0;34m+=\u001b[0m\u001b[0;36m1\u001b[0m\u001b[0;34m;\u001b[0m\u001b[0;34m\u001b[0m\u001b[0m\n\u001b[0m\u001b[1;32m     60\u001b[0m     \u001b[0;32mreturn\u001b[0m \u001b[0;36m1\u001b[0m\u001b[0;34m;\u001b[0m\u001b[0;34m\u001b[0m\u001b[0m\n\u001b[1;32m     61\u001b[0m \u001b[0;31m##\u001b[0m\n\u001b[0;34m\u001b[0m\u001b[0m\n", 
        "\u001b[0;31mKeyboardInterrupt\u001b[0m: "
       ]
      }
     ], 
     "prompt_number": 8
    }, 
    {
     "cell_type": "markdown", 
     "source": [
      "Zbog toga \u0161to na broju 5 funkcija ve\u0107 oduzima previ\u0161e vremena nema smisla testirati da li \u0107e u razumnom vremenu dati dobre rezultate na ve\u0107im brojevima broj 6, 7 i 8", 
      "", 
      "<headingcell level=3>", 
      "", 
      "Zadatak 3 - ispitivanje prostosti Miller-Rabinovim testom"
     ]
    }, 
    {
     "cell_type": "code", 
     "collapsed": false, 
     "input": [
      "%time rez=millerRab(broj[1])", 
      "print \"Rezultat:\",rez"
     ], 
     "language": "python", 
     "outputs": [
      {
       "output_type": "stream", 
       "stream": "stdout", 
       "text": [
        "CPU times: user 0.00 s, sys: 0.00 s, total: 0.00 s", 
        "Wall time: 0.00 s", 
        "Rezultat: False"
       ]
      }
     ], 
     "prompt_number": 9
    }, 
    {
     "cell_type": "code", 
     "collapsed": false, 
     "input": [
      "%time rez=millerRab(broj[2])", 
      "print \"Rezultat:\",rez"
     ], 
     "language": "python", 
     "outputs": [
      {
       "output_type": "stream", 
       "stream": "stdout", 
       "text": [
        "CPU times: user 0.00 s, sys: 0.00 s, total: 0.00 s", 
        "Wall time: 0.00 s", 
        "Rezultat: False"
       ]
      }
     ], 
     "prompt_number": 10
    }, 
    {
     "cell_type": "code", 
     "collapsed": false, 
     "input": [
      "%time rez=millerRab(broj[3])", 
      "print \"Rezultat:\",rez"
     ], 
     "language": "python", 
     "outputs": [
      {
       "output_type": "stream", 
       "stream": "stdout", 
       "text": [
        "CPU times: user 0.00 s, sys: 0.00 s, total: 0.00 s", 
        "Wall time: 0.00 s", 
        "Rezultat: False"
       ]
      }
     ], 
     "prompt_number": 11
    }, 
    {
     "cell_type": "code", 
     "collapsed": false, 
     "input": [
      "%time rez=millerRab(broj[4])", 
      "print \"Rezultat:\",rez"
     ], 
     "language": "python", 
     "outputs": [
      {
       "output_type": "stream", 
       "stream": "stdout", 
       "text": [
        "CPU times: user 0.00 s, sys: 0.00 s, total: 0.00 s", 
        "Wall time: 0.00 s", 
        "Rezultat: False"
       ]
      }
     ], 
     "prompt_number": 12
    }, 
    {
     "cell_type": "code", 
     "collapsed": false, 
     "input": [
      "%time rez=millerRab(broj[5])", 
      "print \"Rezultat:\",rez"
     ], 
     "language": "python", 
     "outputs": [
      {
       "output_type": "stream", 
       "stream": "stdout", 
       "text": [
        "CPU times: user 0.00 s, sys: 0.00 s, total: 0.00 s", 
        "Wall time: 0.00 s", 
        "Rezultat: False"
       ]
      }
     ], 
     "prompt_number": 13
    }, 
    {
     "cell_type": "code", 
     "collapsed": false, 
     "input": [
      "%time rez=millerRab(broj[6])", 
      "print \"Rezultat:\",rez"
     ], 
     "language": "python", 
     "outputs": [
      {
       "output_type": "stream", 
       "stream": "stdout", 
       "text": [
        "CPU times: user 0.01 s, sys: 0.00 s, total: 0.01 s", 
        "Wall time: 0.01 s", 
        "Rezultat: False"
       ]
      }
     ], 
     "prompt_number": 14
    }, 
    {
     "cell_type": "code", 
     "collapsed": false, 
     "input": [
      "%time rez=millerRab(broj[7])", 
      "print \"Rezultat:\",rez"
     ], 
     "language": "python", 
     "outputs": [
      {
       "output_type": "stream", 
       "stream": "stdout", 
       "text": [
        "CPU times: user 0.00 s, sys: 0.00 s, total: 0.00 s", 
        "Wall time: 0.01 s", 
        "Rezultat: False"
       ]
      }
     ], 
     "prompt_number": 15
    }, 
    {
     "cell_type": "code", 
     "collapsed": false, 
     "input": [
      "%time rez=millerRab(broj[8])", 
      "print \"Rezultat:\",rez"
     ], 
     "language": "python", 
     "outputs": [
      {
       "output_type": "stream", 
       "stream": "stdout", 
       "text": [
        "CPU times: user 0.02 s, sys: 0.00 s, total: 0.02 s", 
        "Wall time: 0.02 s", 
        "Rezultat: False"
       ]
      }
     ], 
     "prompt_number": 16
    }, 
    {
     "cell_type": "code", 
     "collapsed": false, 
     "input": [
      "%time rez=millerRab(prirodni[1])", 
      "print \"Rezultat:\",rez"
     ], 
     "language": "python", 
     "outputs": [
      {
       "output_type": "stream", 
       "stream": "stdout", 
       "text": [
        "CPU times: user 0.01 s, sys: 0.00 s, total: 0.01 s", 
        "Wall time: 0.01 s", 
        "Rezultat: False"
       ]
      }
     ], 
     "prompt_number": 17
    }, 
    {
     "cell_type": "code", 
     "collapsed": false, 
     "input": [
      "%time rez=millerRab(prirodni[2])", 
      "print \"Rezultat:\",rez"
     ], 
     "language": "python", 
     "outputs": [
      {
       "output_type": "stream", 
       "stream": "stdout", 
       "text": [
        "CPU times: user 0.40 s, sys: 0.00 s, total: 0.40 s", 
        "Wall time: 0.42 s", 
        "Rezultat: True"
       ]
      }
     ], 
     "prompt_number": 18
    }, 
    {
     "cell_type": "markdown", 
     "source": [
      "# <headingcell level=3>", 
      "", 
      "# Zadatak 4 - Fermatova metoda faktorizacije"
     ]
    }, 
    {
     "cell_type": "code", 
     "collapsed": false, 
     "input": [
      "%time rez=fermat(broj[1])", 
      "print \"Rezultat:\",rez"
     ], 
     "language": "python", 
     "outputs": [
      {
       "output_type": "stream", 
       "stream": "stdout", 
       "text": [
        "CPU times: user 0.00 s, sys: 0.00 s, total: 0.00 s", 
        "Wall time: 0.00 s", 
        "Rezultat: (128909, 127935)"
       ]
      }
     ], 
     "prompt_number": 19
    }, 
    {
     "cell_type": "code", 
     "collapsed": false, 
     "input": [
      "%time rez=fermat(broj[2])", 
      "print \"Rezultat:\",rez"
     ], 
     "language": "python", 
     "outputs": [
      {
       "output_type": "stream", 
       "stream": "stdout", 
       "text": [
        "CPU times: user 0.00 s, sys: 0.00 s, total: 0.00 s", 
        "Wall time: 0.00 s", 
        "Rezultat: (273223, 271767)"
       ]
      }
     ], 
     "prompt_number": 20
    }, 
    {
     "cell_type": "code", 
     "collapsed": false, 
     "input": [
      "%time rez=fermat(broj[3])", 
      "print \"Rezultat:\",rez"
     ], 
     "language": "python", 
     "outputs": [
      {
       "output_type": "stream", 
       "stream": "stdout", 
       "text": [
        "CPU times: user 0.00 s, sys: 0.00 s, total: 0.00 s", 
        "Wall time: 0.00 s", 
        "Rezultat: (107655291, 107641817)"
       ]
      }
     ], 
     "prompt_number": 21
    }, 
    {
     "cell_type": "code", 
     "collapsed": false, 
     "input": [
      "%time rez=fermat(broj[4])", 
      "print \"Rezultat:\",rez"
     ], 
     "language": "python", 
     "outputs": [
      {
       "output_type": "stream", 
       "stream": "stdout", 
       "text": [
        "CPU times: user 0.00 s, sys: 0.00 s, total: 0.00 s", 
        "Wall time: 0.00 s", 
        "Rezultat: (70973286258, 70973159698)"
       ]
      }
     ], 
     "prompt_number": 22
    }, 
    {
     "cell_type": "code", 
     "collapsed": false, 
     "input": [
      "%time rez=fermat(broj[5])", 
      "print \"Rezultat:\",rez"
     ], 
     "language": "python", 
     "outputs": [
      {
       "output_type": "stream", 
       "stream": "stdout", 
       "text": [
        "CPU times: user 0.00 s, sys: 0.00 s, total: 0.00 s", 
        "Wall time: 0.00 s", 
        "Rezultat: (12537356714754031459208241722151213659225431522303927468258166926231879758423094745898070165787881L, 12537356714754031459208241722151213659225431522299498882652997761246923424591009735381752874938895L)"
       ]
      }
     ], 
     "prompt_number": 23
    }, 
    {
     "cell_type": "code", 
     "collapsed": false, 
     "input": [
      "%time rez=fermat(broj[7])", 
      "print \"Rezultat:\",rez"
     ], 
     "language": "python", 
     "outputs": [
      {
       "output_type": "stream", 
       "stream": "stdout", 
       "text": [
        "CPU times: user 0.00 s, sys: 0.00 s, total: 0.00 s", 
        "Wall time: 0.00 s", 
        "Rezultat: (1268238381211168940647889786810581373809535976675770575036711367480491524725624665711336708930513961356031487354959394545817717789759179230179L, 1268238381211168940647889786810581373809535976675770575036711367480491423998731287183318467071024525191343254837947014068337384825970743715525L)"
       ]
      }
     ], 
     "prompt_number": 24
    }, 
    {
     "cell_type": "code", 
     "collapsed": false, 
     "input": [
      "%time rez=fermat(broj[8])", 
      "print \"Rezultat:\",rez"
     ], 
     "language": "python", 
     "outputs": [
      {
       "output_type": "stream", 
       "stream": "stdout", 
       "text": [
        "CPU times: user 0.00 s, sys: 0.00 s, total: 0.00 s", 
        "Wall time: 0.00 s", 
        "Rezultat: (19624781236058893133922527560249348205081760323874903599091349190905117929597961357743784559126869245064261866136378436096220773234180843452201664414250871025746117147389268382742853928446896327L, 19624781236058893133922527560249348205081760323874903599091349190905117929597961357743784559126861143875113280662335862812769308572194347934053271351063249091919446761323764866495316762130442493L)"
       ]
      }
     ], 
     "prompt_number": 25
    }, 
    {
     "cell_type": "markdown", 
     "source": [
      "", 
      "<headingcell level=3>", 
      "", 
      "Zadatak 5 - Pollardova p metoda"
     ]
    }, 
    {
     "cell_type": "code", 
     "collapsed": false, 
     "input": [
      "%time rez=pollard(broj[1])", 
      "print \"Rezultat:\",rez"
     ], 
     "language": "python", 
     "outputs": [
      {
       "output_type": "stream", 
       "stream": "stdout", 
       "text": [
        "CPU times: user 0.00 s, sys: 0.00 s, total: 0.00 s", 
        "Wall time: 0.00 s", 
        "Rezultat: 153"
       ]
      }
     ], 
     "prompt_number": 26
    }, 
    {
     "cell_type": "code", 
     "collapsed": false, 
     "input": [
      "%time rez=pollard(broj[2])", 
      "print \"Rezultat:\",rez"
     ], 
     "language": "python", 
     "outputs": [
      {
       "output_type": "stream", 
       "stream": "stdout", 
       "text": [
        "CPU times: user 0.00 s, sys: 0.00 s, total: 0.00 s", 
        "Wall time: 0.00 s", 
        "Rezultat: 2351"
       ]
      }
     ], 
     "prompt_number": 27
    }, 
    {
     "cell_type": "code", 
     "collapsed": false, 
     "input": [
      "%time rez=pollard(broj[3])", 
      "print \"Rezultat:\",rez"
     ], 
     "language": "python", 
     "outputs": [
      {
       "output_type": "stream", 
       "stream": "stdout", 
       "text": [
        "CPU times: user 0.00 s, sys: 0.00 s, total: 0.00 s", 
        "Wall time: 0.00 s", 
        "Rezultat: 434683"
       ]
      }
     ], 
     "prompt_number": 28
    }, 
    {
     "cell_type": "code", 
     "collapsed": false, 
     "input": [
      "%time rez=pollard(broj[4])", 
      "print \"Rezultat:\",rez"
     ], 
     "language": "python", 
     "outputs": [
      {
       "output_type": "stream", 
       "stream": "stdout", 
       "text": [
        "CPU times: user 0.00 s, sys: 0.00 s, total: 0.00 s", 
        "Wall time: 0.00 s", 
        "Rezultat: 434683"
       ]
      }
     ], 
     "prompt_number": 29
    }, 
    {
     "cell_type": "code", 
     "collapsed": false, 
     "input": [
      "%time rez=pollard(broj[5])", 
      "print \"Rezultat:\",rez"
     ], 
     "language": "python", 
     "outputs": [
      {
       "output_type": "stream", 
       "stream": "stdout", 
       "text": [
        "CPU times: user 0.16 s, sys: 0.00 s, total: 0.16 s", 
        "Wall time: 0.17 s", 
        "Rezultat: 123458201"
       ]
      }
     ], 
     "prompt_number": 30
    }, 
    {
     "cell_type": "code", 
     "collapsed": false, 
     "input": [
      "%time rez=pollard(broj[6])", 
      "print \"Rezultat:\",rez"
     ], 
     "language": "python", 
     "outputs": [
      {
       "output_type": "stream", 
       "stream": "stdout", 
       "text": [
        "CPU times: user 0.74 s, sys: 0.00 s, total: 0.75 s", 
        "Wall time: 0.76 s", 
        "Rezultat: 9345234109"
       ]
      }
     ], 
     "prompt_number": 31
    }, 
    {
     "cell_type": "code", 
     "collapsed": false, 
     "input": [
      "%time rez=pollard(broj[7])", 
      "print \"Rezultat:\",rez"
     ], 
     "language": "python", 
     "outputs": [
      {
       "output_type": "stream", 
       "stream": "stdout", 
       "text": [
        "CPU times: user 5.18 s, sys: 0.00 s, total: 5.18 s", 
        "Wall time: 5.23 s", 
        "Rezultat: 19223456827"
       ]
      }
     ], 
     "prompt_number": 32
    }, 
    {
     "cell_type": "code", 
     "collapsed": false, 
     "input": [
      "%time rez=pollard(broj[8])", 
      "print \"Rezultat:\",rez"
     ], 
     "language": "python", 
     "outputs": [
      {
       "output_type": "stream", 
       "stream": "stdout", 
       "text": [
        "CPU times: user 7.96 s, sys: 0.00 s, total: 7.97 s", 
        "Wall time: 8.01 s", 
        "Rezultat: 19223456827"
       ]
      }
     ], 
     "prompt_number": 33
    }, 
    {
     "cell_type": "markdown", 
     "source": [
      "", 
      "# <headingcell level=3>", 
      "", 
      "# Zadatak 6 - Modificirana Pollardova p metoda"
     ]
    }, 
    {
     "cell_type": "code", 
     "collapsed": false, 
     "input": [
      "%time rez=improvedPollard(broj[1])", 
      "print \"Rezultat:\",rez"
     ], 
     "language": "python", 
     "outputs": [
      {
       "output_type": "stream", 
       "stream": "stdout", 
       "text": [
        "CPU times: user 0.00 s, sys: 0.00 s, total: 0.00 s", 
        "Wall time: 0.00 s", 
        "Rezultat: 7026831"
       ]
      }
     ], 
     "prompt_number": 34
    }, 
    {
     "cell_type": "code", 
     "collapsed": false, 
     "input": [
      "%time rez=improvedPollard(broj[2])", 
      "print \"Rezultat:\",rez"
     ], 
     "language": "python", 
     "outputs": [
      {
       "output_type": "stream", 
       "stream": "stdout", 
       "text": [
        "CPU times: user 0.00 s, sys: 0.00 s, total: 0.00 s", 
        "Wall time: 0.00 s", 
        "Rezultat: 5517797"
       ]
      }
     ], 
     "prompt_number": 35
    }, 
    {
     "cell_type": "code", 
     "collapsed": false, 
     "input": [
      "%time rez=improvedPollard(broj[3])", 
      "print \"Rezultat:\",rez"
     ], 
     "language": "python", 
     "outputs": [
      {
       "output_type": "stream", 
       "stream": "stdout", 
       "text": [
        "CPU times: user 0.00 s, sys: 0.00 s, total: 0.00 s", 
        "Wall time: 0.00 s", 
        "Rezultat: 434683"
       ]
      }
     ], 
     "prompt_number": 36
    }, 
    {
     "cell_type": "code", 
     "collapsed": false, 
     "input": [
      "%time rez=improvedPollard(broj[4])", 
      "print \"Rezultat:\",rez"
     ], 
     "language": "python", 
     "outputs": [
      {
       "output_type": "stream", 
       "stream": "stdout", 
       "text": [
        "CPU times: user 0.00 s, sys: 0.00 s, total: 0.00 s", 
        "Wall time: 0.00 s", 
        "Rezultat: 434683"
       ]
      }
     ], 
     "prompt_number": 37
    }, 
    {
     "cell_type": "code", 
     "collapsed": false, 
     "input": [
      "%time rez=improvedPollard(broj[5])", 
      "print \"Rezultat:\",rez"
     ], 
     "language": "python", 
     "outputs": [
      {
       "output_type": "stream", 
       "stream": "stdout", 
       "text": [
        "CPU times: user 0.12 s, sys: 0.00 s, total: 0.12 s", 
        "Wall time: 0.13 s", 
        "Rezultat: 123458201"
       ]
      }
     ], 
     "prompt_number": 38
    }, 
    {
     "cell_type": "code", 
     "collapsed": false, 
     "input": [
      "%time rez=improvedPollard(broj[6])", 
      "print \"Rezultat:\",rez"
     ], 
     "language": "python", 
     "outputs": [
      {
       "output_type": "stream", 
       "stream": "stdout", 
       "text": [
        "CPU times: user 1.40 s, sys: 0.00 s, total: 1.41 s", 
        "Wall time: 1.49 s", 
        "Rezultat: 9345232087"
       ]
      }
     ], 
     "prompt_number": 39
    }, 
    {
     "cell_type": "code", 
     "collapsed": false, 
     "input": [
      "%time rez=improvedPollard(broj[7])", 
      "print \"Rezultat:\",rez"
     ], 
     "language": "python", 
     "outputs": [
      {
       "output_type": "stream", 
       "stream": "stdout", 
       "text": [
        "CPU times: user 3.21 s, sys: 0.00 s, total: 3.21 s", 
        "Wall time: 3.31 s", 
        "Rezultat: 9223456793"
       ]
      }
     ], 
     "prompt_number": 40
    }, 
    {
     "cell_type": "code", 
     "collapsed": false, 
     "input": [
      "%time rez=improvedPollard(broj[8])", 
      "print \"Rezultat:\",rez"
     ], 
     "language": "python", 
     "outputs": [
      {
       "output_type": "stream", 
       "stream": "stdout", 
       "text": [
        "CPU times: user 3.83 s, sys: 0.00 s, total: 3.83 s", 
        "Wall time: 3.99 s", 
        "Rezultat: 19223456827"
       ]
      }
     ], 
     "prompt_number": 41
    }, 
    {
     "cell_type": "markdown", 
     "source": [
      "", 
      "# <headingcell level=3>", 
      "", 
      "# Zadatak 7 - Modificirana Pollard ro -1 metoda"
     ]
    }, 
    {
     "cell_type": "code", 
     "collapsed": false, 
     "input": [
      "%time rez=pollardRo1(broj[1])", 
      "print \"Rezultat:\",rez"
     ], 
     "language": "python", 
     "outputs": [
      {
       "output_type": "stream", 
       "stream": "stdout", 
       "text": [
        "CPU times: user 0.00 s, sys: 0.00 s, total: 0.00 s", 
        "Wall time: 0.00 s", 
        "Rezultat: (3, 5497324119)"
       ]
      }
     ], 
     "prompt_number": 42
    }, 
    {
     "cell_type": "code", 
     "collapsed": false, 
     "input": [
      "%time rez=pollardRo1(broj[2])", 
      "print \"Rezultat:\",rez"
     ], 
     "language": "python", 
     "outputs": [
      {
       "output_type": "stream", 
       "stream": "stdout", 
       "text": [
        "CPU times: user 0.00 s, sys: 0.00 s, total: 0.00 s", 
        "Wall time: 0.00 s", 
        "Rezultat: (2351, 31583579)"
       ]
      }
     ], 
     "prompt_number": 43
    }, 
    {
     "cell_type": "code", 
     "collapsed": false, 
     "input": [
      "%time rez=pollardRo1(broj[3])", 
      "print \"Rezultat:\",rez"
     ], 
     "language": "python", 
     "outputs": [
      {
       "output_type": "stream", 
       "stream": "stdout", 
       "text": [
        "CPU times: user 2.44 s, sys: 0.01 s, total: 2.45 s", 
        "Wall time: 2.59 s", 
        "Rezultat: (434683, 26658993181)"
       ]
      }
     ], 
     "prompt_number": 44
    }, 
    {
     "cell_type": "code", 
     "collapsed": false, 
     "input": [
      "%time rez=pollardRo1(broj[4])", 
      "print \"Rezultat:\",rez"
     ], 
     "language": "python", 
     "outputs": [
      {
       "output_type": "stream", 
       "stream": "stdout", 
       "text": [
        "CPU times: user 2.72 s, sys: 0.00 s, total: 2.72 s", 
        "Wall time: 2.87 s", 
        "Rezultat: (434683, 11588211132896623)"
       ]
      }
     ], 
     "prompt_number": 45
    }, 
    {
     "cell_type": "code", 
     "collapsed": false, 
     "input": [
      "%time rez=pollardRo1(broj[5])", 
      "print \"Rezultat:\",rez"
     ], 
     "language": "python", 
     "outputs": [
      {
       "ename": "KeyboardInterrupt", 
       "evalue": "", 
       "output_type": "pyerr", 
       "traceback": [
        "\u001b[0;31m---------------------------------------------------------------------------\u001b[0m\n\u001b[0;31mKeyboardInterrupt\u001b[0m                         Traceback (most recent call last)", 
        "\u001b[0;32m/home/ori/Desktop/notebook/<ipython-input-46-5d68c9e77789>\u001b[0m in \u001b[0;36m<module>\u001b[0;34m()\u001b[0m\n\u001b[0;32m----> 1\u001b[0;31m \u001b[0mget_ipython\u001b[0m\u001b[0;34m(\u001b[0m\u001b[0;34m)\u001b[0m\u001b[0;34m.\u001b[0m\u001b[0mmagic\u001b[0m\u001b[0;34m(\u001b[0m\u001b[0;34mu'time rez=pollardRo1(broj[5])'\u001b[0m\u001b[0;34m)\u001b[0m\u001b[0;34m\u001b[0m\u001b[0m\n\u001b[0m\u001b[1;32m      2\u001b[0m \u001b[0;32mprint\u001b[0m \u001b[0;34m\"Rezultat:\"\u001b[0m\u001b[0;34m,\u001b[0m\u001b[0mrez\u001b[0m\u001b[0;34m\u001b[0m\u001b[0m\n", 
        "\u001b[0;32m/usr/lib/python2.7/dist-packages/IPython/core/interactiveshell.pyc\u001b[0m in \u001b[0;36mmagic\u001b[0;34m(self, arg_s, next_input)\u001b[0m\n\u001b[1;32m   1983\u001b[0m                 \u001b[0mself\u001b[0m\u001b[0;34m.\u001b[0m\u001b[0m_magic_locals\u001b[0m \u001b[0;34m=\u001b[0m \u001b[0msys\u001b[0m\u001b[0;34m.\u001b[0m\u001b[0m_getframe\u001b[0m\u001b[0;34m(\u001b[0m\u001b[0;36m1\u001b[0m\u001b[0;34m)\u001b[0m\u001b[0;34m.\u001b[0m\u001b[0mf_locals\u001b[0m\u001b[0;34m\u001b[0m\u001b[0m\n\u001b[1;32m   1984\u001b[0m             \u001b[0;32mwith\u001b[0m \u001b[0mself\u001b[0m\u001b[0;34m.\u001b[0m\u001b[0mbuiltin_trap\u001b[0m\u001b[0;34m:\u001b[0m\u001b[0;34m\u001b[0m\u001b[0m\n\u001b[0;32m-> 1985\u001b[0;31m                 \u001b[0mresult\u001b[0m \u001b[0;34m=\u001b[0m \u001b[0mfn\u001b[0m\u001b[0;34m(\u001b[0m\u001b[0mmagic_args\u001b[0m\u001b[0;34m)\u001b[0m\u001b[0;34m\u001b[0m\u001b[0m\n\u001b[0m\u001b[1;32m   1986\u001b[0m             \u001b[0;31m# Ensure we're not keeping object references around:\u001b[0m\n\u001b[0;34m\u001b[0m\u001b[0m\n\u001b[1;32m   1987\u001b[0m             \u001b[0mself\u001b[0m\u001b[0;34m.\u001b[0m\u001b[0m_magic_locals\u001b[0m \u001b[0;34m=\u001b[0m \u001b[0;34m{\u001b[0m\u001b[0;34m}\u001b[0m\u001b[0;34m\u001b[0m\u001b[0m\n", 
        "\u001b[0;32m/usr/lib/python2.7/dist-packages/IPython/core/magic.pyc\u001b[0m in \u001b[0;36mmagic_time\u001b[0;34m(self, parameter_s)\u001b[0m\n\u001b[1;32m   2023\u001b[0m         \u001b[0;32melse\u001b[0m\u001b[0;34m:\u001b[0m\u001b[0;34m\u001b[0m\u001b[0m\n\u001b[1;32m   2024\u001b[0m             \u001b[0mst\u001b[0m \u001b[0;34m=\u001b[0m \u001b[0mclk\u001b[0m\u001b[0;34m(\u001b[0m\u001b[0;34m)\u001b[0m\u001b[0;34m\u001b[0m\u001b[0m\n\u001b[0;32m-> 2025\u001b[0;31m             \u001b[0;32mexec\u001b[0m \u001b[0mcode\u001b[0m \u001b[0;32min\u001b[0m \u001b[0mglob\u001b[0m\u001b[0;34m,\u001b[0m \u001b[0mlocs\u001b[0m\u001b[0;34m\u001b[0m\u001b[0m\n\u001b[0m\u001b[1;32m   2026\u001b[0m             \u001b[0mend\u001b[0m \u001b[0;34m=\u001b[0m \u001b[0mclk\u001b[0m\u001b[0;34m(\u001b[0m\u001b[0;34m)\u001b[0m\u001b[0;34m\u001b[0m\u001b[0m\n\u001b[1;32m   2027\u001b[0m             \u001b[0mout\u001b[0m \u001b[0;34m=\u001b[0m \u001b[0mNone\u001b[0m\u001b[0;34m\u001b[0m\u001b[0m\n", 
        "\u001b[0;32m/home/ori/Desktop/notebook/<timed exec>\u001b[0m in \u001b[0;36m<module>\u001b[0;34m()\u001b[0m\n", 
        "\u001b[0;32m/home/ori/Desktop/notebook/sve.pyc\u001b[0m in \u001b[0;36mpollardRo1\u001b[0;34m(n, k, zastavica)\u001b[0m\n\u001b[1;32m    252\u001b[0m     \u001b[0;32mwhile\u001b[0m \u001b[0mi\u001b[0m\u001b[0;34m<\u001b[0m\u001b[0mk\u001b[0m\u001b[0;34m:\u001b[0m\u001b[0;34m\u001b[0m\u001b[0m\n\u001b[1;32m    253\u001b[0m         \u001b[0mi\u001b[0m\u001b[0;34m+=\u001b[0m\u001b[0;36m1\u001b[0m\u001b[0;34m;\u001b[0m\u001b[0;34m\u001b[0m\u001b[0m\n\u001b[0;32m--> 254\u001b[0;31m         \u001b[0mx\u001b[0m\u001b[0;34m=\u001b[0m\u001b[0mpow\u001b[0m\u001b[0;34m(\u001b[0m\u001b[0ma\u001b[0m\u001b[0;34m,\u001b[0m\u001b[0mi\u001b[0m\u001b[0;34m,\u001b[0m\u001b[0mn\u001b[0m\u001b[0;34m)\u001b[0m\u001b[0;34m\u001b[0m\u001b[0m\n\u001b[0m\u001b[1;32m    255\u001b[0m \u001b[0;34m\u001b[0m\u001b[0m\n\u001b[1;32m    256\u001b[0m         \u001b[0mr\u001b[0m\u001b[0;34m=\u001b[0m\u001b[0mgcd\u001b[0m\u001b[0;34m(\u001b[0m\u001b[0mx\u001b[0m\u001b[0;34m-\u001b[0m\u001b[0;36m1\u001b[0m\u001b[0;34m,\u001b[0m\u001b[0mn\u001b[0m\u001b[0;34m)\u001b[0m\u001b[0;34m;\u001b[0m\u001b[0;34m\u001b[0m\u001b[0m\n", 
        "\u001b[0;31mKeyboardInterrupt\u001b[0m: "
       ]
      }
     ], 
     "prompt_number": 46
    }, 
    {
     "cell_type": "markdown", 
     "source": [
      "Kao \u0161to je o\u010dekivano, ova metoda je korisna za pronalazak manjih prostih faktora, po\u0161to brojevi 5-8 imaju ve\u0107e proste faktore, funkciju nije efikasno iskori\u0161tavati na njima.", 
      "", 
      "<headingcell level=3>", 
      "", 
      "Zadatak 8 - Faktorizacija malih brojeva iz skupa N"
     ]
    }, 
    {
     "cell_type": "code", 
     "collapsed": false, 
     "input": [
      "%time rez=faktorizacija(broj[1])", 
      "print \"Rezultat:\",rez"
     ], 
     "language": "python", 
     "outputs": [
      {
       "output_type": "stream", 
       "stream": "stdout", 
       "text": [
        "CPU times: user 0.00 s, sys: 0.00 s, total: 0.00 s", 
        "Wall time: 0.00 s", 
        "Rezultat: {2347: 1, 17: 1, 3: 10, 7: 1}"
       ]
      }
     ], 
     "prompt_number": 47
    }, 
    {
     "cell_type": "code", 
     "collapsed": false, 
     "input": [
      "%time rez=faktorizacija(broj[2])", 
      "print \"Rezultat:\",rez"
     ], 
     "language": "python", 
     "outputs": [
      {
       "output_type": "stream", 
       "stream": "stdout", 
       "text": [
        "CPU times: user 0.00 s, sys: 0.00 s, total: 0.00 s", 
        "Wall time: 0.00 s", 
        "Rezultat: {13457: 1, 2347: 1, 2351: 1}"
       ]
      }
     ], 
     "prompt_number": 48
    }, 
    {
     "cell_type": "code", 
     "collapsed": false, 
     "input": [
      "%time rez=faktorizacija(broj[3])", 
      "print \"Rezultat:\",rez"
     ], 
     "language": "python", 
     "outputs": [
      {
       "ename": "KeyboardInterrupt", 
       "evalue": "", 
       "output_type": "pyerr", 
       "traceback": [
        "\u001b[0;31m---------------------------------------------------------------------------\u001b[0m\n\u001b[0;31mKeyboardInterrupt\u001b[0m                         Traceback (most recent call last)", 
        "\u001b[0;32m/home/ori/Desktop/notebook/<ipython-input-49-2fee6b03b1ab>\u001b[0m in \u001b[0;36m<module>\u001b[0;34m()\u001b[0m\n\u001b[0;32m----> 1\u001b[0;31m \u001b[0mget_ipython\u001b[0m\u001b[0;34m(\u001b[0m\u001b[0;34m)\u001b[0m\u001b[0;34m.\u001b[0m\u001b[0mmagic\u001b[0m\u001b[0;34m(\u001b[0m\u001b[0;34mu'time rez=faktorizacija(broj[3])'\u001b[0m\u001b[0;34m)\u001b[0m\u001b[0;34m\u001b[0m\u001b[0m\n\u001b[0m\u001b[1;32m      2\u001b[0m \u001b[0;32mprint\u001b[0m \u001b[0;34m\"Rezultat:\"\u001b[0m\u001b[0;34m,\u001b[0m\u001b[0mrez\u001b[0m\u001b[0;34m\u001b[0m\u001b[0m\n", 
        "\u001b[0;32m/usr/lib/python2.7/dist-packages/IPython/core/interactiveshell.pyc\u001b[0m in \u001b[0;36mmagic\u001b[0;34m(self, arg_s, next_input)\u001b[0m\n\u001b[1;32m   1983\u001b[0m                 \u001b[0mself\u001b[0m\u001b[0;34m.\u001b[0m\u001b[0m_magic_locals\u001b[0m \u001b[0;34m=\u001b[0m \u001b[0msys\u001b[0m\u001b[0;34m.\u001b[0m\u001b[0m_getframe\u001b[0m\u001b[0;34m(\u001b[0m\u001b[0;36m1\u001b[0m\u001b[0;34m)\u001b[0m\u001b[0;34m.\u001b[0m\u001b[0mf_locals\u001b[0m\u001b[0;34m\u001b[0m\u001b[0m\n\u001b[1;32m   1984\u001b[0m             \u001b[0;32mwith\u001b[0m \u001b[0mself\u001b[0m\u001b[0;34m.\u001b[0m\u001b[0mbuiltin_trap\u001b[0m\u001b[0;34m:\u001b[0m\u001b[0;34m\u001b[0m\u001b[0m\n\u001b[0;32m-> 1985\u001b[0;31m                 \u001b[0mresult\u001b[0m \u001b[0;34m=\u001b[0m \u001b[0mfn\u001b[0m\u001b[0;34m(\u001b[0m\u001b[0mmagic_args\u001b[0m\u001b[0;34m)\u001b[0m\u001b[0;34m\u001b[0m\u001b[0m\n\u001b[0m\u001b[1;32m   1986\u001b[0m             \u001b[0;31m# Ensure we're not keeping object references around:\u001b[0m\n\u001b[0;34m\u001b[0m\u001b[0m\n\u001b[1;32m   1987\u001b[0m             \u001b[0mself\u001b[0m\u001b[0;34m.\u001b[0m\u001b[0m_magic_locals\u001b[0m \u001b[0;34m=\u001b[0m \u001b[0;34m{\u001b[0m\u001b[0;34m}\u001b[0m\u001b[0;34m\u001b[0m\u001b[0m\n", 
        "\u001b[0;32m/usr/lib/python2.7/dist-packages/IPython/core/magic.pyc\u001b[0m in \u001b[0;36mmagic_time\u001b[0;34m(self, parameter_s)\u001b[0m\n\u001b[1;32m   2023\u001b[0m         \u001b[0;32melse\u001b[0m\u001b[0;34m:\u001b[0m\u001b[0;34m\u001b[0m\u001b[0m\n\u001b[1;32m   2024\u001b[0m             \u001b[0mst\u001b[0m \u001b[0;34m=\u001b[0m \u001b[0mclk\u001b[0m\u001b[0;34m(\u001b[0m\u001b[0;34m)\u001b[0m\u001b[0;34m\u001b[0m\u001b[0m\n\u001b[0;32m-> 2025\u001b[0;31m             \u001b[0;32mexec\u001b[0m \u001b[0mcode\u001b[0m \u001b[0;32min\u001b[0m \u001b[0mglob\u001b[0m\u001b[0;34m,\u001b[0m \u001b[0mlocs\u001b[0m\u001b[0;34m\u001b[0m\u001b[0m\n\u001b[0m\u001b[1;32m   2026\u001b[0m             \u001b[0mend\u001b[0m \u001b[0;34m=\u001b[0m \u001b[0mclk\u001b[0m\u001b[0;34m(\u001b[0m\u001b[0;34m)\u001b[0m\u001b[0;34m\u001b[0m\u001b[0m\n\u001b[1;32m   2027\u001b[0m             \u001b[0mout\u001b[0m \u001b[0;34m=\u001b[0m \u001b[0mNone\u001b[0m\u001b[0;34m\u001b[0m\u001b[0m\n", 
        "\u001b[0;32m/home/ori/Desktop/notebook/<timed exec>\u001b[0m in \u001b[0;36m<module>\u001b[0;34m()\u001b[0m\n", 
        "\u001b[0;32m/home/ori/Desktop/notebook/sve.pyc\u001b[0m in \u001b[0;36mfaktorizacija\u001b[0;34m(n)\u001b[0m\n\u001b[1;32m    276\u001b[0m         \u001b[0mbrojac\u001b[0m \u001b[0;34m=\u001b[0m \u001b[0;36m1\u001b[0m\u001b[0;34m;\u001b[0m\u001b[0;34m\u001b[0m\u001b[0m\n\u001b[1;32m    277\u001b[0m         \u001b[0;32mwhile\u001b[0m \u001b[0mi\u001b[0m \u001b[0;34m<=\u001b[0m \u001b[0mn\u001b[0m\u001b[0;34m:\u001b[0m\u001b[0;34m\u001b[0m\u001b[0m\n\u001b[0;32m--> 278\u001b[0;31m             \u001b[0;32mif\u001b[0m \u001b[0mn\u001b[0m \u001b[0;34m%\u001b[0m \u001b[0mi\u001b[0m \u001b[0;34m==\u001b[0m \u001b[0;36m0\u001b[0m\u001b[0;34m:\u001b[0m\u001b[0;34m\u001b[0m\u001b[0m\n\u001b[0m\u001b[1;32m    279\u001b[0m                 \u001b[0mn\u001b[0m \u001b[0;34m/=\u001b[0m \u001b[0mi\u001b[0m\u001b[0;34m;\u001b[0m\u001b[0;34m\u001b[0m\u001b[0m\n\u001b[1;32m    280\u001b[0m                 \u001b[0;32mif\u001b[0m \u001b[0mfaktori\u001b[0m\u001b[0;34m.\u001b[0m\u001b[0mhas_key\u001b[0m\u001b[0;34m(\u001b[0m\u001b[0mi\u001b[0m\u001b[0;34m)\u001b[0m\u001b[0;34m:\u001b[0m\u001b[0;34m\u001b[0m\u001b[0m\n", 
        "\u001b[0;31mKeyboardInterrupt\u001b[0m: "
       ]
      }
     ], 
     "prompt_number": 49
    }, 
    {
     "cell_type": "markdown", 
     "source": [
      "Na\u017ealost, algoritam ne daje dobre rezultate s ve\u0107im brojevima zato \u0161to je predvi\u0111en za brz pronalazak faktora kod manjih brojeva, pa brojevi 3-8 ne daju dobre vremenske rezultate.", 
      "", 
      "<headingcell level=3>", 
      "", 
      "Zadatak 9 - Faktorizacija brojeva iz skupa N"
     ]
    }, 
    {
     "cell_type": "code", 
     "collapsed": false, 
     "input": [
      "%time rez=faktorizacijaAlgoritam(broj[1])", 
      "print \"Rezultat:\",rez"
     ], 
     "language": "python", 
     "outputs": [
      {
       "output_type": "stream", 
       "stream": "stdout", 
       "text": [
        "CPU times: user 0.02 s, sys: 0.00 s, total: 0.02 s", 
        "Wall time: 0.09 s", 
        "Rezultat: {2347: 1, mpz(17): 1, 3: 10, 7: 1}"
       ]
      }
     ], 
     "prompt_number": 51
    }, 
    {
     "cell_type": "code", 
     "collapsed": false, 
     "input": [
      "%time rez=faktorizacijaAlgoritam(broj[2])", 
      "print \"Rezultat:\",rez"
     ], 
     "language": "python", 
     "outputs": [
      {
       "output_type": "stream", 
       "stream": "stdout", 
       "text": [
        "CPU times: user 0.00 s, sys: 0.00 s, total: 0.00 s", 
        "Wall time: 0.00 s", 
        "Rezultat: {13457: 1, mpz(2347): 1, 2351: 1}"
       ]
      }
     ], 
     "prompt_number": 52
    }, 
    {
     "cell_type": "code", 
     "collapsed": false, 
     "input": [
      "%time rez=faktorizacijaAlgoritam(broj[3])", 
      "print \"Rezultat:\",rez"
     ], 
     "language": "python", 
     "outputs": [
      {
       "output_type": "stream", 
       "stream": "stdout", 
       "text": [
        "CPU times: user 0.00 s, sys: 0.00 s, total: 0.00 s", 
        "Wall time: 0.00 s", 
        "Rezultat: {mpz(434683): 1, mpz(26658993181): 1}"
       ]
      }
     ], 
     "prompt_number": 53
    }, 
    {
     "cell_type": "code", 
     "collapsed": false, 
     "input": [
      "%time rez=faktorizacijaAlgoritam(broj[4])", 
      "print \"Rezultat:\",rez"
     ], 
     "language": "python", 
     "outputs": [
      {
       "output_type": "stream", 
       "stream": "stdout", 
       "text": [
        "CPU times: user 0.00 s, sys: 0.00 s, total: 0.00 s", 
        "Wall time: 0.01 s", 
        "Rezultat: {mpz(434683): 2, mpz(26658993181): 1}"
       ]
      }
     ], 
     "prompt_number": 54
    }, 
    {
     "cell_type": "code", 
     "collapsed": false, 
     "input": [
      "%time rez=faktorizacijaAlgoritam(broj[5])", 
      "print \"Rezultat:\",rez"
     ], 
     "language": "python", 
     "outputs": [
      {
       "output_type": "stream", 
       "stream": "stdout", 
       "text": [
        "CPU times: user 0.13 s, sys: 0.00 s, total: 0.13 s", 
        "Wall time: 0.14 s", 
        "Rezultat: {mpz(123456937): 15, mpz(123458201): 9}"
       ]
      }
     ], 
     "prompt_number": 55
    }, 
    {
     "cell_type": "code", 
     "collapsed": false, 
     "input": [
      "%time rez=faktorizacijaAlgoritam(broj[6])", 
      "print \"Rezultat:\",rez"
     ], 
     "language": "python", 
     "outputs": [
      {
       "output_type": "stream", 
       "stream": "stdout", 
       "text": [
        "CPU times: user 2.78 s, sys: 0.00 s, total: 2.79 s", 
        "Wall time: 2.83 s", 
        "Rezultat: {mpz(9345234109): 12, mpz(9345232087): 15}"
       ]
      }
     ], 
     "prompt_number": 56
    }, 
    {
     "cell_type": "code", 
     "collapsed": false, 
     "input": [
      "%time rez=faktorizacijaAlgoritam(broj[7])", 
      "print \"Rezultat:\",rez"
     ], 
     "language": "python", 
     "outputs": [
      {
       "output_type": "stream", 
       "stream": "stdout", 
       "text": [
        "CPU times: user 4.91 s, sys: 0.00 s, total: 4.91 s", 
        "Wall time: 4.99 s", 
        "Rezultat: {mpz(9223456793): 18, mpz(19223456827): 10}"
       ]
      }
     ], 
     "prompt_number": 57
    }, 
    {
     "cell_type": "code", 
     "collapsed": false, 
     "input": [
      "%time rez=faktorizacijaAlgoritam(broj[8])", 
      "print \"Rezultat:\",rez"
     ], 
     "language": "python", 
     "outputs": [
      {
       "output_type": "stream", 
       "stream": "stdout", 
       "text": [
        "CPU times: user 9.92 s, sys: 0.01 s, total: 9.93 s", 
        "Wall time: 10.02 s", 
        "Rezultat: {mpz(19223456827): 10, mpz(889223456813): 10, mpz(89223456799): 15}"
       ]
      }
     ], 
     "prompt_number": 58
    }, 
    {
     "cell_type": "markdown", 
     "source": [
      "# <headingcell level=2>", 
      "", 
      "# Zadatak 11 - testiranje dva prirodna broja na prostost i faktorizacija"
     ]
    }, 
    {
     "cell_type": "markdown", 
     "source": [
      "U slu\u010daju da je prirodni broj prost, ispisati ga, a ako nije poku\u0161ati prona\u0107i njegovu faktorizaciju na proste brojeve."
     ]
    }, 
    {
     "cell_type": "code", 
     "collapsed": false, 
     "input": [
      "%time rez=faktorizacijaAlgoritam(prirodni[1])", 
      "print \"Rezultat:\",rez"
     ], 
     "language": "python", 
     "outputs": [
      {
       "ename": "KeyboardInterrupt", 
       "evalue": "", 
       "output_type": "pyerr", 
       "traceback": [
        "\u001b[0;31m---------------------------------------------------------------------------\u001b[0m\n\u001b[0;31mKeyboardInterrupt\u001b[0m                         Traceback (most recent call last)", 
        "\u001b[0;32m/home/ori/Desktop/notebook/<ipython-input-60-502d010751c2>\u001b[0m in \u001b[0;36m<module>\u001b[0;34m()\u001b[0m\n\u001b[0;32m----> 1\u001b[0;31m \u001b[0mget_ipython\u001b[0m\u001b[0;34m(\u001b[0m\u001b[0;34m)\u001b[0m\u001b[0;34m.\u001b[0m\u001b[0mmagic\u001b[0m\u001b[0;34m(\u001b[0m\u001b[0;34mu'time rez=faktorizacijaAlgoritam(prirodni[1])'\u001b[0m\u001b[0;34m)\u001b[0m\u001b[0;34m\u001b[0m\u001b[0m\n\u001b[0m\u001b[1;32m      2\u001b[0m \u001b[0;32mprint\u001b[0m \u001b[0;34m\"Rezultat:\"\u001b[0m\u001b[0;34m,\u001b[0m\u001b[0mrez\u001b[0m\u001b[0;34m\u001b[0m\u001b[0m\n", 
        "\u001b[0;32m/usr/lib/python2.7/dist-packages/IPython/core/interactiveshell.pyc\u001b[0m in \u001b[0;36mmagic\u001b[0;34m(self, arg_s, next_input)\u001b[0m\n\u001b[1;32m   1983\u001b[0m                 \u001b[0mself\u001b[0m\u001b[0;34m.\u001b[0m\u001b[0m_magic_locals\u001b[0m \u001b[0;34m=\u001b[0m \u001b[0msys\u001b[0m\u001b[0;34m.\u001b[0m\u001b[0m_getframe\u001b[0m\u001b[0;34m(\u001b[0m\u001b[0;36m1\u001b[0m\u001b[0;34m)\u001b[0m\u001b[0;34m.\u001b[0m\u001b[0mf_locals\u001b[0m\u001b[0;34m\u001b[0m\u001b[0m\n\u001b[1;32m   1984\u001b[0m             \u001b[0;32mwith\u001b[0m \u001b[0mself\u001b[0m\u001b[0;34m.\u001b[0m\u001b[0mbuiltin_trap\u001b[0m\u001b[0;34m:\u001b[0m\u001b[0;34m\u001b[0m\u001b[0m\n\u001b[0;32m-> 1985\u001b[0;31m                 \u001b[0mresult\u001b[0m \u001b[0;34m=\u001b[0m \u001b[0mfn\u001b[0m\u001b[0;34m(\u001b[0m\u001b[0mmagic_args\u001b[0m\u001b[0;34m)\u001b[0m\u001b[0;34m\u001b[0m\u001b[0m\n\u001b[0m\u001b[1;32m   1986\u001b[0m             \u001b[0;31m# Ensure we're not keeping object references around:\u001b[0m\n\u001b[0;34m\u001b[0m\u001b[0m\n\u001b[1;32m   1987\u001b[0m             \u001b[0mself\u001b[0m\u001b[0;34m.\u001b[0m\u001b[0m_magic_locals\u001b[0m \u001b[0;34m=\u001b[0m \u001b[0;34m{\u001b[0m\u001b[0;34m}\u001b[0m\u001b[0;34m\u001b[0m\u001b[0m\n", 
        "\u001b[0;32m/usr/lib/python2.7/dist-packages/IPython/core/magic.pyc\u001b[0m in \u001b[0;36mmagic_time\u001b[0;34m(self, parameter_s)\u001b[0m\n\u001b[1;32m   2023\u001b[0m         \u001b[0;32melse\u001b[0m\u001b[0;34m:\u001b[0m\u001b[0;34m\u001b[0m\u001b[0m\n\u001b[1;32m   2024\u001b[0m             \u001b[0mst\u001b[0m \u001b[0;34m=\u001b[0m \u001b[0mclk\u001b[0m\u001b[0;34m(\u001b[0m\u001b[0;34m)\u001b[0m\u001b[0;34m\u001b[0m\u001b[0m\n\u001b[0;32m-> 2025\u001b[0;31m             \u001b[0;32mexec\u001b[0m \u001b[0mcode\u001b[0m \u001b[0;32min\u001b[0m \u001b[0mglob\u001b[0m\u001b[0;34m,\u001b[0m \u001b[0mlocs\u001b[0m\u001b[0;34m\u001b[0m\u001b[0m\n\u001b[0m\u001b[1;32m   2026\u001b[0m             \u001b[0mend\u001b[0m \u001b[0;34m=\u001b[0m \u001b[0mclk\u001b[0m\u001b[0;34m(\u001b[0m\u001b[0;34m)\u001b[0m\u001b[0;34m\u001b[0m\u001b[0m\n\u001b[1;32m   2027\u001b[0m             \u001b[0mout\u001b[0m \u001b[0;34m=\u001b[0m \u001b[0mNone\u001b[0m\u001b[0;34m\u001b[0m\u001b[0m\n", 
        "\u001b[0;32m/home/ori/Desktop/notebook/<timed exec>\u001b[0m in \u001b[0;36m<module>\u001b[0;34m()\u001b[0m\n", 
        "\u001b[0;32m/home/ori/Desktop/notebook/sve.pyc\u001b[0m in \u001b[0;36mfaktorizacijaAlgoritam\u001b[0;34m(n)\u001b[0m\n\u001b[1;32m    305\u001b[0m         \u001b[0;32mif\u001b[0m\u001b[0;34m(\u001b[0m\u001b[0mmillerRab\u001b[0m\u001b[0;34m(\u001b[0m\u001b[0mn\u001b[0m\u001b[0;34m)\u001b[0m\u001b[0;34m==\u001b[0m\u001b[0mFalse\u001b[0m\u001b[0;34m)\u001b[0m\u001b[0;34m:\u001b[0m\u001b[0;34m\u001b[0m\u001b[0m\n\u001b[1;32m    306\u001b[0m             \u001b[0;31m#izracunaj jedan faktor\u001b[0m\n\u001b[0;34m\u001b[0m\u001b[0m\n\u001b[0;32m--> 307\u001b[0;31m             \u001b[0mbroj\u001b[0m\u001b[0;34m=\u001b[0m\u001b[0mimprovedPollard\u001b[0m\u001b[0;34m(\u001b[0m\u001b[0mn\u001b[0m\u001b[0;34m)\u001b[0m\u001b[0;34m;\u001b[0m\u001b[0;34m\u001b[0m\u001b[0m\n\u001b[0m\u001b[1;32m    308\u001b[0m             \u001b[0;31m#trazi faktor dok ne bude prost broj\u001b[0m\n\u001b[0;34m\u001b[0m\u001b[0m\n\u001b[1;32m    309\u001b[0m             \u001b[0;32mwhile\u001b[0m\u001b[0;34m(\u001b[0m\u001b[0mmillerRab\u001b[0m\u001b[0;34m(\u001b[0m\u001b[0mbroj\u001b[0m\u001b[0;34m)\u001b[0m\u001b[0;34m==\u001b[0m\u001b[0mFalse\u001b[0m\u001b[0;34m)\u001b[0m\u001b[0;34m:\u001b[0m\u001b[0;34m\u001b[0m\u001b[0m\n", 
        "\u001b[0;32m/home/ori/Desktop/notebook/sve.pyc\u001b[0m in \u001b[0;36mimprovedPollard\u001b[0;34m(broj, c, counter, zastavica)\u001b[0m\n\u001b[1;32m    195\u001b[0m             \u001b[0;31m#ako je korak>1 a jos nije nasao broj\u001b[0m\n\u001b[0;34m\u001b[0m\u001b[0m\n\u001b[1;32m    196\u001b[0m             \u001b[0;32mif\u001b[0m\u001b[0;34m(\u001b[0m\u001b[0;34m(\u001b[0m\u001b[0md\u001b[0m\u001b[0;34m==\u001b[0m\u001b[0;36m1\u001b[0m \u001b[0;32mor\u001b[0m \u001b[0md\u001b[0m\u001b[0;34m==\u001b[0m\u001b[0mbroj\u001b[0m\u001b[0;34m)\u001b[0m \u001b[0;32mand\u001b[0m \u001b[0mc\u001b[0m\u001b[0;34m==\u001b[0m\u001b[0;34m-\u001b[0m\u001b[0;36m1\u001b[0m \u001b[0;32mand\u001b[0m \u001b[0mkorak\u001b[0m\u001b[0;34m>\u001b[0m\u001b[0;36m1\u001b[0m\u001b[0;34m)\u001b[0m\u001b[0;34m:\u001b[0m\u001b[0;34m\u001b[0m\u001b[0m\n\u001b[0;32m--> 197\u001b[0;31m                 \u001b[0md\u001b[0m\u001b[0;34m=\u001b[0m\u001b[0mimprovedPollard\u001b[0m\u001b[0;34m(\u001b[0m\u001b[0mbroj\u001b[0m\u001b[0;34m,\u001b[0m\u001b[0mc\u001b[0m\u001b[0;34m,\u001b[0m\u001b[0mkorak\u001b[0m\u001b[0;34m/\u001b[0m\u001b[0;36m2\u001b[0m\u001b[0;34m)\u001b[0m\u001b[0;34m;\u001b[0m\u001b[0;34m\u001b[0m\u001b[0m\n\u001b[0m\u001b[1;32m    198\u001b[0m             \u001b[0;31m#ako je korak 1 a nije nasao broj\u001b[0m\n\u001b[0;34m\u001b[0m\u001b[0m\n\u001b[1;32m    199\u001b[0m             \u001b[0;32melif\u001b[0m\u001b[0;34m(\u001b[0m\u001b[0;34m(\u001b[0m\u001b[0md\u001b[0m\u001b[0;34m==\u001b[0m\u001b[0;36m1\u001b[0m \u001b[0;32mor\u001b[0m \u001b[0md\u001b[0m\u001b[0;34m==\u001b[0m\u001b[0mbroj\u001b[0m\u001b[0;34m)\u001b[0m \u001b[0;32mand\u001b[0m \u001b[0mc\u001b[0m\u001b[0;34m==\u001b[0m\u001b[0;34m-\u001b[0m\u001b[0;36m1\u001b[0m \u001b[0;32mand\u001b[0m \u001b[0mkorak\u001b[0m\u001b[0;34m==\u001b[0m\u001b[0;36m1\u001b[0m\u001b[0;34m)\u001b[0m\u001b[0;34m:\u001b[0m\u001b[0;34m\u001b[0m\u001b[0m\n", 
        "\u001b[0;32m/home/ori/Desktop/notebook/sve.pyc\u001b[0m in \u001b[0;36mimprovedPollard\u001b[0;34m(broj, c, counter, zastavica)\u001b[0m\n\u001b[1;32m    195\u001b[0m             \u001b[0;31m#ako je korak>1 a jos nije nasao broj\u001b[0m\n\u001b[0;34m\u001b[0m\u001b[0m\n\u001b[1;32m    196\u001b[0m             \u001b[0;32mif\u001b[0m\u001b[0;34m(\u001b[0m\u001b[0;34m(\u001b[0m\u001b[0md\u001b[0m\u001b[0;34m==\u001b[0m\u001b[0;36m1\u001b[0m \u001b[0;32mor\u001b[0m \u001b[0md\u001b[0m\u001b[0;34m==\u001b[0m\u001b[0mbroj\u001b[0m\u001b[0;34m)\u001b[0m \u001b[0;32mand\u001b[0m \u001b[0mc\u001b[0m\u001b[0;34m==\u001b[0m\u001b[0;34m-\u001b[0m\u001b[0;36m1\u001b[0m \u001b[0;32mand\u001b[0m \u001b[0mkorak\u001b[0m\u001b[0;34m>\u001b[0m\u001b[0;36m1\u001b[0m\u001b[0;34m)\u001b[0m\u001b[0;34m:\u001b[0m\u001b[0;34m\u001b[0m\u001b[0m\n\u001b[0;32m--> 197\u001b[0;31m                 \u001b[0md\u001b[0m\u001b[0;34m=\u001b[0m\u001b[0mimprovedPollard\u001b[0m\u001b[0;34m(\u001b[0m\u001b[0mbroj\u001b[0m\u001b[0;34m,\u001b[0m\u001b[0mc\u001b[0m\u001b[0;34m,\u001b[0m\u001b[0mkorak\u001b[0m\u001b[0;34m/\u001b[0m\u001b[0;36m2\u001b[0m\u001b[0;34m)\u001b[0m\u001b[0;34m;\u001b[0m\u001b[0;34m\u001b[0m\u001b[0m\n\u001b[0m\u001b[1;32m    198\u001b[0m             \u001b[0;31m#ako je korak 1 a nije nasao broj\u001b[0m\n\u001b[0;34m\u001b[0m\u001b[0m\n\u001b[1;32m    199\u001b[0m             \u001b[0;32melif\u001b[0m\u001b[0;34m(\u001b[0m\u001b[0;34m(\u001b[0m\u001b[0md\u001b[0m\u001b[0;34m==\u001b[0m\u001b[0;36m1\u001b[0m \u001b[0;32mor\u001b[0m \u001b[0md\u001b[0m\u001b[0;34m==\u001b[0m\u001b[0mbroj\u001b[0m\u001b[0;34m)\u001b[0m \u001b[0;32mand\u001b[0m \u001b[0mc\u001b[0m\u001b[0;34m==\u001b[0m\u001b[0;34m-\u001b[0m\u001b[0;36m1\u001b[0m \u001b[0;32mand\u001b[0m \u001b[0mkorak\u001b[0m\u001b[0;34m==\u001b[0m\u001b[0;36m1\u001b[0m\u001b[0;34m)\u001b[0m\u001b[0;34m:\u001b[0m\u001b[0;34m\u001b[0m\u001b[0m\n", 
        "\u001b[0;32m/home/ori/Desktop/notebook/sve.pyc\u001b[0m in \u001b[0;36mimprovedPollard\u001b[0;34m(broj, c, counter, zastavica)\u001b[0m\n\u001b[1;32m    195\u001b[0m             \u001b[0;31m#ako je korak>1 a jos nije nasao broj\u001b[0m\n\u001b[0;34m\u001b[0m\u001b[0m\n\u001b[1;32m    196\u001b[0m             \u001b[0;32mif\u001b[0m\u001b[0;34m(\u001b[0m\u001b[0;34m(\u001b[0m\u001b[0md\u001b[0m\u001b[0;34m==\u001b[0m\u001b[0;36m1\u001b[0m \u001b[0;32mor\u001b[0m \u001b[0md\u001b[0m\u001b[0;34m==\u001b[0m\u001b[0mbroj\u001b[0m\u001b[0;34m)\u001b[0m \u001b[0;32mand\u001b[0m \u001b[0mc\u001b[0m\u001b[0;34m==\u001b[0m\u001b[0;34m-\u001b[0m\u001b[0;36m1\u001b[0m \u001b[0;32mand\u001b[0m \u001b[0mkorak\u001b[0m\u001b[0;34m>\u001b[0m\u001b[0;36m1\u001b[0m\u001b[0;34m)\u001b[0m\u001b[0;34m:\u001b[0m\u001b[0;34m\u001b[0m\u001b[0m\n\u001b[0;32m--> 197\u001b[0;31m                 \u001b[0md\u001b[0m\u001b[0;34m=\u001b[0m\u001b[0mimprovedPollard\u001b[0m\u001b[0;34m(\u001b[0m\u001b[0mbroj\u001b[0m\u001b[0;34m,\u001b[0m\u001b[0mc\u001b[0m\u001b[0;34m,\u001b[0m\u001b[0mkorak\u001b[0m\u001b[0;34m/\u001b[0m\u001b[0;36m2\u001b[0m\u001b[0;34m)\u001b[0m\u001b[0;34m;\u001b[0m\u001b[0;34m\u001b[0m\u001b[0m\n\u001b[0m\u001b[1;32m    198\u001b[0m             \u001b[0;31m#ako je korak 1 a nije nasao broj\u001b[0m\n\u001b[0;34m\u001b[0m\u001b[0m\n\u001b[1;32m    199\u001b[0m             \u001b[0;32melif\u001b[0m\u001b[0;34m(\u001b[0m\u001b[0;34m(\u001b[0m\u001b[0md\u001b[0m\u001b[0;34m==\u001b[0m\u001b[0;36m1\u001b[0m \u001b[0;32mor\u001b[0m \u001b[0md\u001b[0m\u001b[0;34m==\u001b[0m\u001b[0mbroj\u001b[0m\u001b[0;34m)\u001b[0m \u001b[0;32mand\u001b[0m \u001b[0mc\u001b[0m\u001b[0;34m==\u001b[0m\u001b[0;34m-\u001b[0m\u001b[0;36m1\u001b[0m \u001b[0;32mand\u001b[0m \u001b[0mkorak\u001b[0m\u001b[0;34m==\u001b[0m\u001b[0;36m1\u001b[0m\u001b[0;34m)\u001b[0m\u001b[0;34m:\u001b[0m\u001b[0;34m\u001b[0m\u001b[0m\n", 
        "\u001b[0;32m/home/ori/Desktop/notebook/sve.pyc\u001b[0m in \u001b[0;36mimprovedPollard\u001b[0;34m(broj, c, counter, zastavica)\u001b[0m\n\u001b[1;32m    195\u001b[0m             \u001b[0;31m#ako je korak>1 a jos nije nasao broj\u001b[0m\n\u001b[0;34m\u001b[0m\u001b[0m\n\u001b[1;32m    196\u001b[0m             \u001b[0;32mif\u001b[0m\u001b[0;34m(\u001b[0m\u001b[0;34m(\u001b[0m\u001b[0md\u001b[0m\u001b[0;34m==\u001b[0m\u001b[0;36m1\u001b[0m \u001b[0;32mor\u001b[0m \u001b[0md\u001b[0m\u001b[0;34m==\u001b[0m\u001b[0mbroj\u001b[0m\u001b[0;34m)\u001b[0m \u001b[0;32mand\u001b[0m \u001b[0mc\u001b[0m\u001b[0;34m==\u001b[0m\u001b[0;34m-\u001b[0m\u001b[0;36m1\u001b[0m \u001b[0;32mand\u001b[0m \u001b[0mkorak\u001b[0m\u001b[0;34m>\u001b[0m\u001b[0;36m1\u001b[0m\u001b[0;34m)\u001b[0m\u001b[0;34m:\u001b[0m\u001b[0;34m\u001b[0m\u001b[0m\n\u001b[0;32m--> 197\u001b[0;31m                 \u001b[0md\u001b[0m\u001b[0;34m=\u001b[0m\u001b[0mimprovedPollard\u001b[0m\u001b[0;34m(\u001b[0m\u001b[0mbroj\u001b[0m\u001b[0;34m,\u001b[0m\u001b[0mc\u001b[0m\u001b[0;34m,\u001b[0m\u001b[0mkorak\u001b[0m\u001b[0;34m/\u001b[0m\u001b[0;36m2\u001b[0m\u001b[0;34m)\u001b[0m\u001b[0;34m;\u001b[0m\u001b[0;34m\u001b[0m\u001b[0m\n\u001b[0m\u001b[1;32m    198\u001b[0m             \u001b[0;31m#ako je korak 1 a nije nasao broj\u001b[0m\n\u001b[0;34m\u001b[0m\u001b[0m\n\u001b[1;32m    199\u001b[0m             \u001b[0;32melif\u001b[0m\u001b[0;34m(\u001b[0m\u001b[0;34m(\u001b[0m\u001b[0md\u001b[0m\u001b[0;34m==\u001b[0m\u001b[0;36m1\u001b[0m \u001b[0;32mor\u001b[0m \u001b[0md\u001b[0m\u001b[0;34m==\u001b[0m\u001b[0mbroj\u001b[0m\u001b[0;34m)\u001b[0m \u001b[0;32mand\u001b[0m \u001b[0mc\u001b[0m\u001b[0;34m==\u001b[0m\u001b[0;34m-\u001b[0m\u001b[0;36m1\u001b[0m \u001b[0;32mand\u001b[0m \u001b[0mkorak\u001b[0m\u001b[0;34m==\u001b[0m\u001b[0;36m1\u001b[0m\u001b[0;34m)\u001b[0m\u001b[0;34m:\u001b[0m\u001b[0;34m\u001b[0m\u001b[0m\n", 
        "\u001b[0;32m/home/ori/Desktop/notebook/sve.pyc\u001b[0m in \u001b[0;36mimprovedPollard\u001b[0;34m(broj, c, counter, zastavica)\u001b[0m\n\u001b[1;32m    195\u001b[0m             \u001b[0;31m#ako je korak>1 a jos nije nasao broj\u001b[0m\n\u001b[0;34m\u001b[0m\u001b[0m\n\u001b[1;32m    196\u001b[0m             \u001b[0;32mif\u001b[0m\u001b[0;34m(\u001b[0m\u001b[0;34m(\u001b[0m\u001b[0md\u001b[0m\u001b[0;34m==\u001b[0m\u001b[0;36m1\u001b[0m \u001b[0;32mor\u001b[0m \u001b[0md\u001b[0m\u001b[0;34m==\u001b[0m\u001b[0mbroj\u001b[0m\u001b[0;34m)\u001b[0m \u001b[0;32mand\u001b[0m \u001b[0mc\u001b[0m\u001b[0;34m==\u001b[0m\u001b[0;34m-\u001b[0m\u001b[0;36m1\u001b[0m \u001b[0;32mand\u001b[0m \u001b[0mkorak\u001b[0m\u001b[0;34m>\u001b[0m\u001b[0;36m1\u001b[0m\u001b[0;34m)\u001b[0m\u001b[0;34m:\u001b[0m\u001b[0;34m\u001b[0m\u001b[0m\n\u001b[0;32m--> 197\u001b[0;31m                 \u001b[0md\u001b[0m\u001b[0;34m=\u001b[0m\u001b[0mimprovedPollard\u001b[0m\u001b[0;34m(\u001b[0m\u001b[0mbroj\u001b[0m\u001b[0;34m,\u001b[0m\u001b[0mc\u001b[0m\u001b[0;34m,\u001b[0m\u001b[0mkorak\u001b[0m\u001b[0;34m/\u001b[0m\u001b[0;36m2\u001b[0m\u001b[0;34m)\u001b[0m\u001b[0;34m;\u001b[0m\u001b[0;34m\u001b[0m\u001b[0m\n\u001b[0m\u001b[1;32m    198\u001b[0m             \u001b[0;31m#ako je korak 1 a nije nasao broj\u001b[0m\n\u001b[0;34m\u001b[0m\u001b[0m\n\u001b[1;32m    199\u001b[0m             \u001b[0;32melif\u001b[0m\u001b[0;34m(\u001b[0m\u001b[0;34m(\u001b[0m\u001b[0md\u001b[0m\u001b[0;34m==\u001b[0m\u001b[0;36m1\u001b[0m \u001b[0;32mor\u001b[0m \u001b[0md\u001b[0m\u001b[0;34m==\u001b[0m\u001b[0mbroj\u001b[0m\u001b[0;34m)\u001b[0m \u001b[0;32mand\u001b[0m \u001b[0mc\u001b[0m\u001b[0;34m==\u001b[0m\u001b[0;34m-\u001b[0m\u001b[0;36m1\u001b[0m \u001b[0;32mand\u001b[0m \u001b[0mkorak\u001b[0m\u001b[0;34m==\u001b[0m\u001b[0;36m1\u001b[0m\u001b[0;34m)\u001b[0m\u001b[0;34m:\u001b[0m\u001b[0;34m\u001b[0m\u001b[0m\n", 
        "\u001b[0;32m/home/ori/Desktop/notebook/sve.pyc\u001b[0m in \u001b[0;36mimprovedPollard\u001b[0;34m(broj, c, counter, zastavica)\u001b[0m\n\u001b[1;32m    195\u001b[0m             \u001b[0;31m#ako je korak>1 a jos nije nasao broj\u001b[0m\n\u001b[0;34m\u001b[0m\u001b[0m\n\u001b[1;32m    196\u001b[0m             \u001b[0;32mif\u001b[0m\u001b[0;34m(\u001b[0m\u001b[0;34m(\u001b[0m\u001b[0md\u001b[0m\u001b[0;34m==\u001b[0m\u001b[0;36m1\u001b[0m \u001b[0;32mor\u001b[0m \u001b[0md\u001b[0m\u001b[0;34m==\u001b[0m\u001b[0mbroj\u001b[0m\u001b[0;34m)\u001b[0m \u001b[0;32mand\u001b[0m \u001b[0mc\u001b[0m\u001b[0;34m==\u001b[0m\u001b[0;34m-\u001b[0m\u001b[0;36m1\u001b[0m \u001b[0;32mand\u001b[0m \u001b[0mkorak\u001b[0m\u001b[0;34m>\u001b[0m\u001b[0;36m1\u001b[0m\u001b[0;34m)\u001b[0m\u001b[0;34m:\u001b[0m\u001b[0;34m\u001b[0m\u001b[0m\n\u001b[0;32m--> 197\u001b[0;31m                 \u001b[0md\u001b[0m\u001b[0;34m=\u001b[0m\u001b[0mimprovedPollard\u001b[0m\u001b[0;34m(\u001b[0m\u001b[0mbroj\u001b[0m\u001b[0;34m,\u001b[0m\u001b[0mc\u001b[0m\u001b[0;34m,\u001b[0m\u001b[0mkorak\u001b[0m\u001b[0;34m/\u001b[0m\u001b[0;36m2\u001b[0m\u001b[0;34m)\u001b[0m\u001b[0;34m;\u001b[0m\u001b[0;34m\u001b[0m\u001b[0m\n\u001b[0m\u001b[1;32m    198\u001b[0m             \u001b[0;31m#ako je korak 1 a nije nasao broj\u001b[0m\n\u001b[0;34m\u001b[0m\u001b[0m\n\u001b[1;32m    199\u001b[0m             \u001b[0;32melif\u001b[0m\u001b[0;34m(\u001b[0m\u001b[0;34m(\u001b[0m\u001b[0md\u001b[0m\u001b[0;34m==\u001b[0m\u001b[0;36m1\u001b[0m \u001b[0;32mor\u001b[0m \u001b[0md\u001b[0m\u001b[0;34m==\u001b[0m\u001b[0mbroj\u001b[0m\u001b[0;34m)\u001b[0m \u001b[0;32mand\u001b[0m \u001b[0mc\u001b[0m\u001b[0;34m==\u001b[0m\u001b[0;34m-\u001b[0m\u001b[0;36m1\u001b[0m \u001b[0;32mand\u001b[0m \u001b[0mkorak\u001b[0m\u001b[0;34m==\u001b[0m\u001b[0;36m1\u001b[0m\u001b[0;34m)\u001b[0m\u001b[0;34m:\u001b[0m\u001b[0;34m\u001b[0m\u001b[0m\n", 
        "\u001b[0;32m/home/ori/Desktop/notebook/sve.pyc\u001b[0m in \u001b[0;36mimprovedPollard\u001b[0;34m(broj, c, counter, zastavica)\u001b[0m\n\u001b[1;32m    199\u001b[0m             \u001b[0;32melif\u001b[0m\u001b[0;34m(\u001b[0m\u001b[0;34m(\u001b[0m\u001b[0md\u001b[0m\u001b[0;34m==\u001b[0m\u001b[0;36m1\u001b[0m \u001b[0;32mor\u001b[0m \u001b[0md\u001b[0m\u001b[0;34m==\u001b[0m\u001b[0mbroj\u001b[0m\u001b[0;34m)\u001b[0m \u001b[0;32mand\u001b[0m \u001b[0mc\u001b[0m\u001b[0;34m==\u001b[0m\u001b[0;34m-\u001b[0m\u001b[0;36m1\u001b[0m \u001b[0;32mand\u001b[0m \u001b[0mkorak\u001b[0m\u001b[0;34m==\u001b[0m\u001b[0;36m1\u001b[0m\u001b[0;34m)\u001b[0m\u001b[0;34m:\u001b[0m\u001b[0;34m\u001b[0m\u001b[0m\n\u001b[1;32m    200\u001b[0m                 \u001b[0mc\u001b[0m \u001b[0;34m=\u001b[0m \u001b[0mrandom\u001b[0m\u001b[0;34m.\u001b[0m\u001b[0mrandint\u001b[0m\u001b[0;34m(\u001b[0m\u001b[0;36m1\u001b[0m\u001b[0;34m,\u001b[0m \u001b[0mbroj\u001b[0m\u001b[0;34m-\u001b[0m\u001b[0;36m1\u001b[0m\u001b[0;34m)\u001b[0m\u001b[0;34m;\u001b[0m\u001b[0;34m\u001b[0m\u001b[0m\n\u001b[0;32m--> 201\u001b[0;31m                 \u001b[0md\u001b[0m\u001b[0;34m=\u001b[0m\u001b[0mimprovedPollard\u001b[0m\u001b[0;34m(\u001b[0m\u001b[0mbroj\u001b[0m\u001b[0;34m,\u001b[0m\u001b[0mc\u001b[0m\u001b[0;34m,\u001b[0m\u001b[0mkorak\u001b[0m\u001b[0;34m)\u001b[0m\u001b[0;34m;\u001b[0m\u001b[0;34m\u001b[0m\u001b[0m\n\u001b[0m\u001b[1;32m    202\u001b[0m             \u001b[0;31m#nasao je broj\u001b[0m\n\u001b[0;34m\u001b[0m\u001b[0m\n\u001b[1;32m    203\u001b[0m             \u001b[0;32melse\u001b[0m\u001b[0;34m:\u001b[0m\u001b[0;34m\u001b[0m\u001b[0m\n", 
        "\u001b[0;32m/home/ori/Desktop/notebook/sve.pyc\u001b[0m in \u001b[0;36mimprovedPollard\u001b[0;34m(broj, c, counter, zastavica)\u001b[0m\n\u001b[1;32m    226\u001b[0m             \u001b[0;32melif\u001b[0m \u001b[0;34m(\u001b[0m\u001b[0mkorak\u001b[0m\u001b[0;34m==\u001b[0m\u001b[0;36m1\u001b[0m \u001b[0;32mand\u001b[0m \u001b[0;34m(\u001b[0m\u001b[0md\u001b[0m\u001b[0;34m==\u001b[0m\u001b[0;36m1\u001b[0m  \u001b[0;32mor\u001b[0m \u001b[0md\u001b[0m\u001b[0;34m==\u001b[0m\u001b[0mNone\u001b[0m\u001b[0;34m)\u001b[0m \u001b[0;32mand\u001b[0m \u001b[0;32mnot\u001b[0m \u001b[0mzastavica\u001b[0m\u001b[0;34m)\u001b[0m\u001b[0;34m:\u001b[0m\u001b[0;34m\u001b[0m\u001b[0m\n\u001b[1;32m    227\u001b[0m                 \u001b[0mc\u001b[0m \u001b[0;34m=\u001b[0m \u001b[0mrandom\u001b[0m\u001b[0;34m.\u001b[0m\u001b[0mrandint\u001b[0m\u001b[0;34m(\u001b[0m\u001b[0;36m1\u001b[0m\u001b[0;34m,\u001b[0m \u001b[0mbroj\u001b[0m\u001b[0;34m-\u001b[0m\u001b[0;36m1\u001b[0m\u001b[0;34m)\u001b[0m\u001b[0;34m;\u001b[0m\u001b[0;34m\u001b[0m\u001b[0m\n\u001b[0;32m--> 228\u001b[0;31m                 \u001b[0md\u001b[0m\u001b[0;34m=\u001b[0m \u001b[0mimprovedPollard\u001b[0m\u001b[0;34m(\u001b[0m\u001b[0mbroj\u001b[0m\u001b[0;34m,\u001b[0m\u001b[0mc\u001b[0m\u001b[0;34m,\u001b[0m\u001b[0;36m1\u001b[0m\u001b[0;34m,\u001b[0m\u001b[0mTrue\u001b[0m\u001b[0;34m)\u001b[0m\u001b[0;34m;\u001b[0m\u001b[0;34m\u001b[0m\u001b[0m\n\u001b[0m\u001b[1;32m    229\u001b[0m             \u001b[0;31m#nasao je broj | upisan je prost broj\u001b[0m\n\u001b[0;34m\u001b[0m\u001b[0m\n\u001b[1;32m    230\u001b[0m             \u001b[0;32melif\u001b[0m\u001b[0;34m(\u001b[0m\u001b[0mzastavica\u001b[0m \u001b[0;32mand\u001b[0m \u001b[0md\u001b[0m\u001b[0;34m==\u001b[0m\u001b[0mbroj\u001b[0m\u001b[0;34m)\u001b[0m\u001b[0;34m:\u001b[0m\u001b[0;34m\u001b[0m\u001b[0m\n", 
        "\u001b[0;32m/home/ori/Desktop/notebook/sve.pyc\u001b[0m in \u001b[0;36mimprovedPollard\u001b[0;34m(broj, c, counter, zastavica)\u001b[0m\n\u001b[1;32m    218\u001b[0m                 \u001b[0mz\u001b[0m\u001b[0;34m=\u001b[0m\u001b[0mabs\u001b[0m\u001b[0;34m(\u001b[0m\u001b[0mz\u001b[0m\u001b[0;34m*\u001b[0m\u001b[0;34m(\u001b[0m\u001b[0mx\u001b[0m\u001b[0;34m-\u001b[0m\u001b[0my\u001b[0m\u001b[0;34m)\u001b[0m\u001b[0;34m)\u001b[0m\u001b[0;34m%\u001b[0m\u001b[0mbroj\u001b[0m\u001b[0;34m;\u001b[0m\u001b[0;34m\u001b[0m\u001b[0m\n\u001b[1;32m    219\u001b[0m             \u001b[0;31m#nzm produkta i n\u001b[0m\n\u001b[0;34m\u001b[0m\u001b[0m\n\u001b[0;32m--> 220\u001b[0;31m             \u001b[0md\u001b[0m\u001b[0;34m=\u001b[0m\u001b[0mgmpy\u001b[0m\u001b[0;34m.\u001b[0m\u001b[0mgcd\u001b[0m\u001b[0;34m(\u001b[0m\u001b[0mmpz\u001b[0m\u001b[0;34m(\u001b[0m\u001b[0mz\u001b[0m\u001b[0;34m)\u001b[0m\u001b[0;34m,\u001b[0m\u001b[0mmpz\u001b[0m\u001b[0;34m(\u001b[0m\u001b[0mbroj\u001b[0m\u001b[0;34m)\u001b[0m\u001b[0;34m)\u001b[0m\u001b[0;34m;\u001b[0m\u001b[0;34m\u001b[0m\u001b[0m\n\u001b[0m\u001b[1;32m    221\u001b[0m             \u001b[0;31m##ako je korak>1 a jos nije nasao broj\u001b[0m\n\u001b[0;34m\u001b[0m\u001b[0m\n\u001b[1;32m    222\u001b[0m             \u001b[0;32mif\u001b[0m \u001b[0;34m(\u001b[0m\u001b[0mkorak\u001b[0m\u001b[0;34m>\u001b[0m\u001b[0;36m1\u001b[0m \u001b[0;32mand\u001b[0m \u001b[0;34m(\u001b[0m\u001b[0md\u001b[0m\u001b[0;34m==\u001b[0m\u001b[0;36m1\u001b[0m \u001b[0;32mor\u001b[0m \u001b[0md\u001b[0m\u001b[0;34m==\u001b[0m\u001b[0mbroj\u001b[0m \u001b[0;32mor\u001b[0m \u001b[0md\u001b[0m\u001b[0;34m==\u001b[0m\u001b[0mNone\u001b[0m\u001b[0;34m)\u001b[0m\u001b[0;34m)\u001b[0m\u001b[0;34m:\u001b[0m\u001b[0;34m\u001b[0m\u001b[0m\n", 
        "\u001b[0;31mKeyboardInterrupt\u001b[0m: "
       ]
      }
     ], 
     "prompt_number": 60
    }, 
    {
     "cell_type": "code", 
     "collapsed": false, 
     "input": [
      "%time rez=faktorizacijaAlgoritam(prirodni[2])", 
      "print \"Rezultat:\",rez"
     ], 
     "language": "python", 
     "outputs": [
      {
       "output_type": "stream", 
       "stream": "stdout", 
       "text": [
        "CPU times: user 0.40 s, sys: 0.00 s, total: 0.40 s", 
        "Wall time: 0.44 s", 
        "Rezultat: {61891877833615477421686119892898221933456590431423859297204193967168190790508503918665876133601916977814268828372678470703918408598404095752467886309753749960537113981926796221456677162882447550094690643156789940972813589465809362136438022341860444076132002396099380469351796632661456405409514592442838581177167864224964690047832386060210894777842746735933661151517891723802296574115997203364654236627418562565428565504384750523961420396693212696808419L: 1}"
       ]
      }
     ], 
     "prompt_number": 59
    }, 
    {
     "cell_type": "markdown", 
     "source": [
      "Na\u017ealost testni prirodni broj P1 nije dao uspje\u0161ne rezultate, mogu\u0107i razlozi su nedovoljno iskustvo pri radu s pythonom pa je implementacija algoritama neefikasna za te\u0161ka ra\u010dunanja, ili pak slaba procesorska snaga."
     ]
    }
   ]
  }
 ]
}